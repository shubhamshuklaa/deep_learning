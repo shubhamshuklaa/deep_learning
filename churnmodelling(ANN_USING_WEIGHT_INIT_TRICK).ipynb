{
  "nbformat": 4,
  "nbformat_minor": 0,
  "metadata": {
    "colab": {
      "provenance": [],
      "toc_visible": true,
      "authorship_tag": "ABX9TyN13nHi3UJAytpUICVMLb3h",
      "include_colab_link": true
    },
    "kernelspec": {
      "name": "python3",
      "display_name": "Python 3"
    },
    "language_info": {
      "name": "python"
    }
  },
  "cells": [
    {
      "cell_type": "markdown",
      "metadata": {
        "id": "view-in-github",
        "colab_type": "text"
      },
      "source": [
        "<a href=\"https://colab.research.google.com/github/shubhamshuklaa/deep_learning/blob/main/churnmodelling(ANN_USING_WEIGHT_INIT_TRICK).ipynb\" target=\"_parent\"><img src=\"https://colab.research.google.com/assets/colab-badge.svg\" alt=\"Open In Colab\"/></a>"
      ]
    },
    {
      "cell_type": "markdown",
      "source": [
        "CREATING ARTIFICIAL NEURAL NETWORK USING WEIGHT INITIALIZATION TRICK"
      ],
      "metadata": {
        "id": "wwc9uH8vOJzw"
      }
    },
    {
      "cell_type": "code",
      "source": [
        "#DATA PREPROCESSING\n",
        "import numpy as np\n",
        "import matplotlib.pyplot as plt\n",
        "import pandas as pd\n"
      ],
      "metadata": {
        "id": "OozBV5NLOWon"
      },
      "execution_count": 12,
      "outputs": []
    },
    {
      "cell_type": "code",
      "source": [
        "#IMPORTING THE DATASET\n",
        "dataset=pd.read_csv('Churn_Modelling.csv')\n",
        "#creating independent and dependent features\n",
        "X=dataset.iloc[:, 3:13]\n",
        "Y=dataset.iloc[:, 13]"
      ],
      "metadata": {
        "id": "xuRqpjLwOwY9"
      },
      "execution_count": 13,
      "outputs": []
    },
    {
      "cell_type": "code",
      "source": [
        "dataset.head()"
      ],
      "metadata": {
        "colab": {
          "base_uri": "https://localhost:8080/",
          "height": 270
        },
        "id": "dD6rf3ZaPrrF",
        "outputId": "a7084638-8d56-47a9-b99a-c3f4b4d2eb80"
      },
      "execution_count": 14,
      "outputs": [
        {
          "output_type": "execute_result",
          "data": {
            "text/plain": [
              "   RowNumber  CustomerId   Surname  CreditScore Geography  Gender  Age  \\\n",
              "0          1    15634602  Hargrave          619    France  Female   42   \n",
              "1          2    15647311      Hill          608     Spain  Female   41   \n",
              "2          3    15619304      Onio          502    France  Female   42   \n",
              "3          4    15701354      Boni          699    France  Female   39   \n",
              "4          5    15737888  Mitchell          850     Spain  Female   43   \n",
              "\n",
              "   Tenure    Balance  NumOfProducts  HasCrCard  IsActiveMember  \\\n",
              "0       2       0.00              1          1               1   \n",
              "1       1   83807.86              1          0               1   \n",
              "2       8  159660.80              3          1               0   \n",
              "3       1       0.00              2          0               0   \n",
              "4       2  125510.82              1          1               1   \n",
              "\n",
              "   EstimatedSalary  Exited  \n",
              "0        101348.88       1  \n",
              "1        112542.58       0  \n",
              "2        113931.57       1  \n",
              "3         93826.63       0  \n",
              "4         79084.10       0  "
            ],
            "text/html": [
              "\n",
              "  <div id=\"df-90070c61-a9f2-4b39-ba8e-08453fcda2a8\">\n",
              "    <div class=\"colab-df-container\">\n",
              "      <div>\n",
              "<style scoped>\n",
              "    .dataframe tbody tr th:only-of-type {\n",
              "        vertical-align: middle;\n",
              "    }\n",
              "\n",
              "    .dataframe tbody tr th {\n",
              "        vertical-align: top;\n",
              "    }\n",
              "\n",
              "    .dataframe thead th {\n",
              "        text-align: right;\n",
              "    }\n",
              "</style>\n",
              "<table border=\"1\" class=\"dataframe\">\n",
              "  <thead>\n",
              "    <tr style=\"text-align: right;\">\n",
              "      <th></th>\n",
              "      <th>RowNumber</th>\n",
              "      <th>CustomerId</th>\n",
              "      <th>Surname</th>\n",
              "      <th>CreditScore</th>\n",
              "      <th>Geography</th>\n",
              "      <th>Gender</th>\n",
              "      <th>Age</th>\n",
              "      <th>Tenure</th>\n",
              "      <th>Balance</th>\n",
              "      <th>NumOfProducts</th>\n",
              "      <th>HasCrCard</th>\n",
              "      <th>IsActiveMember</th>\n",
              "      <th>EstimatedSalary</th>\n",
              "      <th>Exited</th>\n",
              "    </tr>\n",
              "  </thead>\n",
              "  <tbody>\n",
              "    <tr>\n",
              "      <th>0</th>\n",
              "      <td>1</td>\n",
              "      <td>15634602</td>\n",
              "      <td>Hargrave</td>\n",
              "      <td>619</td>\n",
              "      <td>France</td>\n",
              "      <td>Female</td>\n",
              "      <td>42</td>\n",
              "      <td>2</td>\n",
              "      <td>0.00</td>\n",
              "      <td>1</td>\n",
              "      <td>1</td>\n",
              "      <td>1</td>\n",
              "      <td>101348.88</td>\n",
              "      <td>1</td>\n",
              "    </tr>\n",
              "    <tr>\n",
              "      <th>1</th>\n",
              "      <td>2</td>\n",
              "      <td>15647311</td>\n",
              "      <td>Hill</td>\n",
              "      <td>608</td>\n",
              "      <td>Spain</td>\n",
              "      <td>Female</td>\n",
              "      <td>41</td>\n",
              "      <td>1</td>\n",
              "      <td>83807.86</td>\n",
              "      <td>1</td>\n",
              "      <td>0</td>\n",
              "      <td>1</td>\n",
              "      <td>112542.58</td>\n",
              "      <td>0</td>\n",
              "    </tr>\n",
              "    <tr>\n",
              "      <th>2</th>\n",
              "      <td>3</td>\n",
              "      <td>15619304</td>\n",
              "      <td>Onio</td>\n",
              "      <td>502</td>\n",
              "      <td>France</td>\n",
              "      <td>Female</td>\n",
              "      <td>42</td>\n",
              "      <td>8</td>\n",
              "      <td>159660.80</td>\n",
              "      <td>3</td>\n",
              "      <td>1</td>\n",
              "      <td>0</td>\n",
              "      <td>113931.57</td>\n",
              "      <td>1</td>\n",
              "    </tr>\n",
              "    <tr>\n",
              "      <th>3</th>\n",
              "      <td>4</td>\n",
              "      <td>15701354</td>\n",
              "      <td>Boni</td>\n",
              "      <td>699</td>\n",
              "      <td>France</td>\n",
              "      <td>Female</td>\n",
              "      <td>39</td>\n",
              "      <td>1</td>\n",
              "      <td>0.00</td>\n",
              "      <td>2</td>\n",
              "      <td>0</td>\n",
              "      <td>0</td>\n",
              "      <td>93826.63</td>\n",
              "      <td>0</td>\n",
              "    </tr>\n",
              "    <tr>\n",
              "      <th>4</th>\n",
              "      <td>5</td>\n",
              "      <td>15737888</td>\n",
              "      <td>Mitchell</td>\n",
              "      <td>850</td>\n",
              "      <td>Spain</td>\n",
              "      <td>Female</td>\n",
              "      <td>43</td>\n",
              "      <td>2</td>\n",
              "      <td>125510.82</td>\n",
              "      <td>1</td>\n",
              "      <td>1</td>\n",
              "      <td>1</td>\n",
              "      <td>79084.10</td>\n",
              "      <td>0</td>\n",
              "    </tr>\n",
              "  </tbody>\n",
              "</table>\n",
              "</div>\n",
              "      <button class=\"colab-df-convert\" onclick=\"convertToInteractive('df-90070c61-a9f2-4b39-ba8e-08453fcda2a8')\"\n",
              "              title=\"Convert this dataframe to an interactive table.\"\n",
              "              style=\"display:none;\">\n",
              "        \n",
              "  <svg xmlns=\"http://www.w3.org/2000/svg\" height=\"24px\"viewBox=\"0 0 24 24\"\n",
              "       width=\"24px\">\n",
              "    <path d=\"M0 0h24v24H0V0z\" fill=\"none\"/>\n",
              "    <path d=\"M18.56 5.44l.94 2.06.94-2.06 2.06-.94-2.06-.94-.94-2.06-.94 2.06-2.06.94zm-11 1L8.5 8.5l.94-2.06 2.06-.94-2.06-.94L8.5 2.5l-.94 2.06-2.06.94zm10 10l.94 2.06.94-2.06 2.06-.94-2.06-.94-.94-2.06-.94 2.06-2.06.94z\"/><path d=\"M17.41 7.96l-1.37-1.37c-.4-.4-.92-.59-1.43-.59-.52 0-1.04.2-1.43.59L10.3 9.45l-7.72 7.72c-.78.78-.78 2.05 0 2.83L4 21.41c.39.39.9.59 1.41.59.51 0 1.02-.2 1.41-.59l7.78-7.78 2.81-2.81c.8-.78.8-2.07 0-2.86zM5.41 20L4 18.59l7.72-7.72 1.47 1.35L5.41 20z\"/>\n",
              "  </svg>\n",
              "      </button>\n",
              "      \n",
              "  <style>\n",
              "    .colab-df-container {\n",
              "      display:flex;\n",
              "      flex-wrap:wrap;\n",
              "      gap: 12px;\n",
              "    }\n",
              "\n",
              "    .colab-df-convert {\n",
              "      background-color: #E8F0FE;\n",
              "      border: none;\n",
              "      border-radius: 50%;\n",
              "      cursor: pointer;\n",
              "      display: none;\n",
              "      fill: #1967D2;\n",
              "      height: 32px;\n",
              "      padding: 0 0 0 0;\n",
              "      width: 32px;\n",
              "    }\n",
              "\n",
              "    .colab-df-convert:hover {\n",
              "      background-color: #E2EBFA;\n",
              "      box-shadow: 0px 1px 2px rgba(60, 64, 67, 0.3), 0px 1px 3px 1px rgba(60, 64, 67, 0.15);\n",
              "      fill: #174EA6;\n",
              "    }\n",
              "\n",
              "    [theme=dark] .colab-df-convert {\n",
              "      background-color: #3B4455;\n",
              "      fill: #D2E3FC;\n",
              "    }\n",
              "\n",
              "    [theme=dark] .colab-df-convert:hover {\n",
              "      background-color: #434B5C;\n",
              "      box-shadow: 0px 1px 3px 1px rgba(0, 0, 0, 0.15);\n",
              "      filter: drop-shadow(0px 1px 2px rgba(0, 0, 0, 0.3));\n",
              "      fill: #FFFFFF;\n",
              "    }\n",
              "  </style>\n",
              "\n",
              "      <script>\n",
              "        const buttonEl =\n",
              "          document.querySelector('#df-90070c61-a9f2-4b39-ba8e-08453fcda2a8 button.colab-df-convert');\n",
              "        buttonEl.style.display =\n",
              "          google.colab.kernel.accessAllowed ? 'block' : 'none';\n",
              "\n",
              "        async function convertToInteractive(key) {\n",
              "          const element = document.querySelector('#df-90070c61-a9f2-4b39-ba8e-08453fcda2a8');\n",
              "          const dataTable =\n",
              "            await google.colab.kernel.invokeFunction('convertToInteractive',\n",
              "                                                     [key], {});\n",
              "          if (!dataTable) return;\n",
              "\n",
              "          const docLinkHtml = 'Like what you see? Visit the ' +\n",
              "            '<a target=\"_blank\" href=https://colab.research.google.com/notebooks/data_table.ipynb>data table notebook</a>'\n",
              "            + ' to learn more about interactive tables.';\n",
              "          element.innerHTML = '';\n",
              "          dataTable['output_type'] = 'display_data';\n",
              "          await google.colab.output.renderOutput(dataTable, element);\n",
              "          const docLink = document.createElement('div');\n",
              "          docLink.innerHTML = docLinkHtml;\n",
              "          element.appendChild(docLink);\n",
              "        }\n",
              "      </script>\n",
              "    </div>\n",
              "  </div>\n",
              "  "
            ]
          },
          "metadata": {},
          "execution_count": 14
        }
      ]
    },
    {
      "cell_type": "code",
      "source": [
        "X.columns"
      ],
      "metadata": {
        "colab": {
          "base_uri": "https://localhost:8080/"
        },
        "id": "ecwOJv3yRK2I",
        "outputId": "42705c25-0ea3-4a05-fb71-6939c007552d"
      },
      "execution_count": 15,
      "outputs": [
        {
          "output_type": "execute_result",
          "data": {
            "text/plain": [
              "Index(['CreditScore', 'Geography', 'Gender', 'Age', 'Tenure', 'Balance',\n",
              "       'NumOfProducts', 'HasCrCard', 'IsActiveMember', 'EstimatedSalary'],\n",
              "      dtype='object')"
            ]
          },
          "metadata": {},
          "execution_count": 15
        }
      ]
    },
    {
      "cell_type": "code",
      "source": [
        "#create dummy variables\n",
        "geography=pd.get_dummies(X['Geography'],drop_first=True)\n",
        "gender=pd.get_dummies(X['Gender'],drop_first=True)\n",
        "\n",
        "#concatenating the data frames\n",
        "X=pd.concat([X,geography,gender],axis=1)"
      ],
      "metadata": {
        "id": "BTNpyh4HTyGM"
      },
      "execution_count": 16,
      "outputs": []
    },
    {
      "cell_type": "code",
      "source": [
        "#dropping unneccessary columns\n",
        "X=X.drop(['Geography','Gender'],axis=1)"
      ],
      "metadata": {
        "id": "2Ak4o3MdVyrO"
      },
      "execution_count": 17,
      "outputs": []
    },
    {
      "cell_type": "code",
      "source": [
        "#splitting the dataset intobthe training set and test set\n",
        "from sklearn.model_selection import train_test_split\n",
        "X_train,X_test,Y_train,Y_test=train_test_split(X,Y,test_size=0.2,random_state=0)"
      ],
      "metadata": {
        "id": "9pMyxFh_WHHw"
      },
      "execution_count": 18,
      "outputs": []
    },
    {
      "cell_type": "code",
      "source": [
        "#feature scaling\n",
        "from sklearn.preprocessing import StandardScaler\n",
        "sc=StandardScaler()\n",
        "X_train-sc.fit_transform(X_train)\n",
        "X_test=sc.transform(X_test)"
      ],
      "metadata": {
        "id": "w0x3vik0dY2E"
      },
      "execution_count": 19,
      "outputs": []
    },
    {
      "cell_type": "code",
      "source": [
        "#Now lets make ANN\n",
        "#importing keras libraries and packages\n",
        "import keras \n",
        "from keras.models import Sequential\n",
        "from keras.layers import Dense\n",
        "from keras.layers import Dropout\n"
      ],
      "metadata": {
        "id": "BEGxkJougCqO"
      },
      "execution_count": 20,
      "outputs": []
    },
    {
      "cell_type": "code",
      "source": [
        "#intialising the ANN\n",
        "classifier=Sequential()\n",
        "#adding the input layer and 1st hidden layer\n",
        "classifier.add(Dense(units=10,kernel_initializer='he_normal',activation='relu',input_dim=11))\n",
        "classifier.add(Dropout(0.3))\n",
        "#adding the 2nd hidden layer\n",
        "classifier.add(Dense(units=20,kernel_initializer='he_normal',activation='relu'))\n",
        "classifier.add(Dropout(0.4))\n",
        "#adding the 3rd hidden layer\n",
        "classifier.add(Dense(units=15,kernel_initializer='he_normal',activation='relu'))\n",
        "classifier.add(Dropout(0.2))\n",
        "#adding the output layer\n",
        "classifier.add(Dense(units=1,kernel_initializer='glorot_uniform',activation='sigmoid'))"
      ],
      "metadata": {
        "id": "SsarmPJWp05H"
      },
      "execution_count": 69,
      "outputs": []
    },
    {
      "cell_type": "code",
      "source": [
        "classifier.summary()"
      ],
      "metadata": {
        "colab": {
          "base_uri": "https://localhost:8080/"
        },
        "id": "ubRKqvAGs2y2",
        "outputId": "cde68729-8de4-4a25-df89-21a1dad7d9cb"
      },
      "execution_count": 70,
      "outputs": [
        {
          "output_type": "stream",
          "name": "stdout",
          "text": [
            "Model: \"sequential_7\"\n",
            "_________________________________________________________________\n",
            " Layer (type)                Output Shape              Param #   \n",
            "=================================================================\n",
            " dense_22 (Dense)            (None, 10)                120       \n",
            "                                                                 \n",
            " dropout (Dropout)           (None, 10)                0         \n",
            "                                                                 \n",
            " dense_23 (Dense)            (None, 20)                220       \n",
            "                                                                 \n",
            " dropout_1 (Dropout)         (None, 20)                0         \n",
            "                                                                 \n",
            " dense_24 (Dense)            (None, 15)                315       \n",
            "                                                                 \n",
            " dropout_2 (Dropout)         (None, 15)                0         \n",
            "                                                                 \n",
            " dense_25 (Dense)            (None, 1)                 16        \n",
            "                                                                 \n",
            "=================================================================\n",
            "Total params: 671\n",
            "Trainable params: 671\n",
            "Non-trainable params: 0\n",
            "_________________________________________________________________\n"
          ]
        }
      ]
    },
    {
      "cell_type": "code",
      "source": [
        "#compiling the ANN\n",
        "classifier.compile(optimizer='adam',loss='binary_crossentropy',metrics=['accuracy'])"
      ],
      "metadata": {
        "id": "GwTqTPNAtJME"
      },
      "execution_count": 71,
      "outputs": []
    },
    {
      "cell_type": "code",
      "source": [
        "#fitting the ANN to the training set\n",
        "model_history=classifier.fit(X_train, Y_train, validation_split=0.33, batch_size=10,epochs=100)"
      ],
      "metadata": {
        "colab": {
          "base_uri": "https://localhost:8080/"
        },
        "id": "dVx5s3AktxKX",
        "outputId": "8820fa78-af42-4857-e1c4-c0dd1b7e012c"
      },
      "execution_count": 72,
      "outputs": [
        {
          "output_type": "stream",
          "name": "stdout",
          "text": [
            "Epoch 1/100\n",
            "536/536 [==============================] - 3s 4ms/step - loss: 2004.3029 - accuracy: 0.6583 - val_loss: 100.2874 - val_accuracy: 0.7955\n",
            "Epoch 2/100\n",
            "536/536 [==============================] - 1s 3ms/step - loss: 303.6279 - accuracy: 0.6859 - val_loss: 8.8452 - val_accuracy: 0.7955\n",
            "Epoch 3/100\n",
            "536/536 [==============================] - 2s 3ms/step - loss: 110.9994 - accuracy: 0.6878 - val_loss: 1.4307 - val_accuracy: 0.6467\n",
            "Epoch 4/100\n",
            "536/536 [==============================] - 2s 3ms/step - loss: 39.8234 - accuracy: 0.7190 - val_loss: 0.8778 - val_accuracy: 0.7955\n",
            "Epoch 5/100\n",
            "536/536 [==============================] - 2s 3ms/step - loss: 18.5160 - accuracy: 0.7061 - val_loss: 1.0736 - val_accuracy: 0.7955\n",
            "Epoch 6/100\n",
            "536/536 [==============================] - 2s 3ms/step - loss: 10.2834 - accuracy: 0.7276 - val_loss: 0.5829 - val_accuracy: 0.7955\n",
            "Epoch 7/100\n",
            "536/536 [==============================] - 2s 3ms/step - loss: 5.7252 - accuracy: 0.7514 - val_loss: 0.6745 - val_accuracy: 0.7955\n",
            "Epoch 8/100\n",
            "536/536 [==============================] - 2s 3ms/step - loss: 4.0711 - accuracy: 0.7613 - val_loss: 0.5141 - val_accuracy: 0.7952\n",
            "Epoch 9/100\n",
            "536/536 [==============================] - 2s 3ms/step - loss: 2.0488 - accuracy: 0.7653 - val_loss: 0.5240 - val_accuracy: 0.7955\n",
            "Epoch 10/100\n",
            "536/536 [==============================] - 2s 3ms/step - loss: 1.8238 - accuracy: 0.7798 - val_loss: 0.5190 - val_accuracy: 0.7955\n",
            "Epoch 11/100\n",
            "536/536 [==============================] - 1s 3ms/step - loss: 1.9534 - accuracy: 0.7781 - val_loss: 0.5125 - val_accuracy: 0.7955\n",
            "Epoch 12/100\n",
            "536/536 [==============================] - 1s 3ms/step - loss: 1.1059 - accuracy: 0.7839 - val_loss: 0.5071 - val_accuracy: 0.7955\n",
            "Epoch 13/100\n",
            "536/536 [==============================] - 1s 3ms/step - loss: 1.1109 - accuracy: 0.7787 - val_loss: 0.5066 - val_accuracy: 0.7955\n",
            "Epoch 14/100\n",
            "536/536 [==============================] - 1s 3ms/step - loss: 0.7635 - accuracy: 0.7938 - val_loss: 0.5069 - val_accuracy: 0.7955\n",
            "Epoch 15/100\n",
            "536/536 [==============================] - 1s 3ms/step - loss: 0.7001 - accuracy: 0.7929 - val_loss: 0.5068 - val_accuracy: 0.7955\n",
            "Epoch 16/100\n",
            "536/536 [==============================] - 2s 3ms/step - loss: 0.6291 - accuracy: 0.7944 - val_loss: 0.5066 - val_accuracy: 0.7955\n",
            "Epoch 17/100\n",
            "536/536 [==============================] - 2s 3ms/step - loss: 0.6494 - accuracy: 0.7947 - val_loss: 0.5067 - val_accuracy: 0.7955\n",
            "Epoch 18/100\n",
            "536/536 [==============================] - 1s 3ms/step - loss: 0.5892 - accuracy: 0.7949 - val_loss: 0.5066 - val_accuracy: 0.7955\n",
            "Epoch 19/100\n",
            "536/536 [==============================] - 2s 3ms/step - loss: 0.5614 - accuracy: 0.7957 - val_loss: 0.5066 - val_accuracy: 0.7955\n",
            "Epoch 20/100\n",
            "536/536 [==============================] - 2s 3ms/step - loss: 0.5315 - accuracy: 0.7960 - val_loss: 0.5067 - val_accuracy: 0.7955\n",
            "Epoch 21/100\n",
            "536/536 [==============================] - 2s 3ms/step - loss: 0.6977 - accuracy: 0.7955 - val_loss: 0.5067 - val_accuracy: 0.7955\n",
            "Epoch 22/100\n",
            "536/536 [==============================] - 2s 3ms/step - loss: 0.5106 - accuracy: 0.7959 - val_loss: 0.5067 - val_accuracy: 0.7955\n",
            "Epoch 23/100\n",
            "536/536 [==============================] - 2s 3ms/step - loss: 0.5047 - accuracy: 0.7968 - val_loss: 0.5066 - val_accuracy: 0.7955\n",
            "Epoch 24/100\n",
            "536/536 [==============================] - 2s 3ms/step - loss: 0.5077 - accuracy: 0.7962 - val_loss: 0.5066 - val_accuracy: 0.7955\n",
            "Epoch 25/100\n",
            "536/536 [==============================] - 2s 3ms/step - loss: 0.5059 - accuracy: 0.7962 - val_loss: 0.5066 - val_accuracy: 0.7955\n",
            "Epoch 26/100\n",
            "536/536 [==============================] - 1s 3ms/step - loss: 0.5050 - accuracy: 0.7964 - val_loss: 0.5066 - val_accuracy: 0.7955\n",
            "Epoch 27/100\n",
            "536/536 [==============================] - 1s 3ms/step - loss: 0.5077 - accuracy: 0.7960 - val_loss: 0.5066 - val_accuracy: 0.7955\n",
            "Epoch 28/100\n",
            "536/536 [==============================] - 1s 3ms/step - loss: 0.5057 - accuracy: 0.7962 - val_loss: 0.5066 - val_accuracy: 0.7955\n",
            "Epoch 29/100\n",
            "536/536 [==============================] - 1s 3ms/step - loss: 0.5055 - accuracy: 0.7962 - val_loss: 0.5066 - val_accuracy: 0.7955\n",
            "Epoch 30/100\n",
            "536/536 [==============================] - 2s 3ms/step - loss: 0.5051 - accuracy: 0.7962 - val_loss: 0.5066 - val_accuracy: 0.7955\n",
            "Epoch 31/100\n",
            "536/536 [==============================] - 1s 3ms/step - loss: 0.5056 - accuracy: 0.7962 - val_loss: 0.5066 - val_accuracy: 0.7955\n",
            "Epoch 32/100\n",
            "536/536 [==============================] - 1s 3ms/step - loss: 0.5055 - accuracy: 0.7962 - val_loss: 0.5066 - val_accuracy: 0.7955\n",
            "Epoch 33/100\n",
            "536/536 [==============================] - 2s 3ms/step - loss: 0.5057 - accuracy: 0.7962 - val_loss: 0.5066 - val_accuracy: 0.7955\n",
            "Epoch 34/100\n",
            "536/536 [==============================] - 2s 3ms/step - loss: 0.5056 - accuracy: 0.7962 - val_loss: 0.5066 - val_accuracy: 0.7955\n",
            "Epoch 35/100\n",
            "536/536 [==============================] - 2s 3ms/step - loss: 0.5055 - accuracy: 0.7962 - val_loss: 0.5066 - val_accuracy: 0.7955\n",
            "Epoch 36/100\n",
            "536/536 [==============================] - 2s 3ms/step - loss: 0.5056 - accuracy: 0.7962 - val_loss: 0.5066 - val_accuracy: 0.7955\n",
            "Epoch 37/100\n",
            "536/536 [==============================] - 2s 4ms/step - loss: 0.5053 - accuracy: 0.7962 - val_loss: 0.5066 - val_accuracy: 0.7955\n",
            "Epoch 38/100\n",
            "536/536 [==============================] - 2s 4ms/step - loss: 0.5055 - accuracy: 0.7962 - val_loss: 0.5065 - val_accuracy: 0.7955\n",
            "Epoch 39/100\n",
            "536/536 [==============================] - 1s 3ms/step - loss: 0.5066 - accuracy: 0.7960 - val_loss: 0.5066 - val_accuracy: 0.7955\n",
            "Epoch 40/100\n",
            "536/536 [==============================] - 2s 3ms/step - loss: 0.5088 - accuracy: 0.7962 - val_loss: 0.5065 - val_accuracy: 0.7955\n",
            "Epoch 41/100\n",
            "536/536 [==============================] - 2s 3ms/step - loss: 0.5060 - accuracy: 0.7960 - val_loss: 0.5065 - val_accuracy: 0.7955\n",
            "Epoch 42/100\n",
            "536/536 [==============================] - 2s 3ms/step - loss: 0.5085 - accuracy: 0.7959 - val_loss: 0.5065 - val_accuracy: 0.7955\n",
            "Epoch 43/100\n",
            "536/536 [==============================] - 1s 3ms/step - loss: 0.5072 - accuracy: 0.7960 - val_loss: 0.5065 - val_accuracy: 0.7955\n",
            "Epoch 44/100\n",
            "536/536 [==============================] - 2s 3ms/step - loss: 0.5085 - accuracy: 0.7962 - val_loss: 0.5065 - val_accuracy: 0.7955\n",
            "Epoch 45/100\n",
            "536/536 [==============================] - 2s 3ms/step - loss: 0.5083 - accuracy: 0.7959 - val_loss: 0.5065 - val_accuracy: 0.7955\n",
            "Epoch 46/100\n",
            "536/536 [==============================] - 2s 3ms/step - loss: 0.5054 - accuracy: 0.7962 - val_loss: 0.5065 - val_accuracy: 0.7955\n",
            "Epoch 47/100\n",
            "536/536 [==============================] - 2s 3ms/step - loss: 0.5051 - accuracy: 0.7962 - val_loss: 0.5065 - val_accuracy: 0.7955\n",
            "Epoch 48/100\n",
            "536/536 [==============================] - 1s 3ms/step - loss: 0.5351 - accuracy: 0.7962 - val_loss: 0.5065 - val_accuracy: 0.7955\n",
            "Epoch 49/100\n",
            "536/536 [==============================] - 1s 3ms/step - loss: 0.5066 - accuracy: 0.7960 - val_loss: 0.5065 - val_accuracy: 0.7955\n",
            "Epoch 50/100\n",
            "536/536 [==============================] - 1s 3ms/step - loss: 0.5053 - accuracy: 0.7962 - val_loss: 0.5065 - val_accuracy: 0.7955\n",
            "Epoch 51/100\n",
            "536/536 [==============================] - 1s 3ms/step - loss: 0.5059 - accuracy: 0.7960 - val_loss: 0.5065 - val_accuracy: 0.7955\n",
            "Epoch 52/100\n",
            "536/536 [==============================] - 1s 3ms/step - loss: 0.5134 - accuracy: 0.7962 - val_loss: 0.5067 - val_accuracy: 0.7955\n",
            "Epoch 53/100\n",
            "536/536 [==============================] - 2s 3ms/step - loss: 0.5052 - accuracy: 0.7962 - val_loss: 0.5068 - val_accuracy: 0.7955\n",
            "Epoch 54/100\n",
            "536/536 [==============================] - 1s 3ms/step - loss: 0.5053 - accuracy: 0.7962 - val_loss: 0.5069 - val_accuracy: 0.7955\n",
            "Epoch 55/100\n",
            "536/536 [==============================] - 1s 3ms/step - loss: 0.5065 - accuracy: 0.7962 - val_loss: 0.5065 - val_accuracy: 0.7955\n",
            "Epoch 56/100\n",
            "536/536 [==============================] - 1s 3ms/step - loss: 0.5065 - accuracy: 0.7962 - val_loss: 0.5066 - val_accuracy: 0.7955\n",
            "Epoch 57/100\n",
            "536/536 [==============================] - 1s 3ms/step - loss: 0.5057 - accuracy: 0.7962 - val_loss: 0.5066 - val_accuracy: 0.7955\n",
            "Epoch 58/100\n",
            "536/536 [==============================] - 2s 3ms/step - loss: 0.5065 - accuracy: 0.7962 - val_loss: 0.5065 - val_accuracy: 0.7955\n",
            "Epoch 59/100\n",
            "536/536 [==============================] - 2s 3ms/step - loss: 0.5052 - accuracy: 0.7962 - val_loss: 0.5066 - val_accuracy: 0.7955\n",
            "Epoch 60/100\n",
            "536/536 [==============================] - 2s 3ms/step - loss: 0.5061 - accuracy: 0.7962 - val_loss: 0.5067 - val_accuracy: 0.7955\n",
            "Epoch 61/100\n",
            "536/536 [==============================] - 2s 3ms/step - loss: 0.5053 - accuracy: 0.7962 - val_loss: 0.5069 - val_accuracy: 0.7955\n",
            "Epoch 62/100\n",
            "536/536 [==============================] - 2s 3ms/step - loss: 0.5055 - accuracy: 0.7960 - val_loss: 0.5073 - val_accuracy: 0.7955\n",
            "Epoch 63/100\n",
            "536/536 [==============================] - 1s 3ms/step - loss: 0.5052 - accuracy: 0.7962 - val_loss: 0.5076 - val_accuracy: 0.7955\n",
            "Epoch 64/100\n",
            "536/536 [==============================] - 2s 3ms/step - loss: 0.5053 - accuracy: 0.7962 - val_loss: 0.5081 - val_accuracy: 0.7955\n",
            "Epoch 65/100\n",
            "536/536 [==============================] - 1s 3ms/step - loss: 0.5052 - accuracy: 0.7962 - val_loss: 0.5089 - val_accuracy: 0.7955\n",
            "Epoch 66/100\n",
            "536/536 [==============================] - 1s 3ms/step - loss: 0.5051 - accuracy: 0.7962 - val_loss: 0.5094 - val_accuracy: 0.7955\n",
            "Epoch 67/100\n",
            "536/536 [==============================] - 1s 3ms/step - loss: 0.5051 - accuracy: 0.7962 - val_loss: 0.5078 - val_accuracy: 0.7955\n",
            "Epoch 68/100\n",
            "536/536 [==============================] - 1s 3ms/step - loss: 0.5052 - accuracy: 0.7962 - val_loss: 0.5085 - val_accuracy: 0.7955\n",
            "Epoch 69/100\n",
            "536/536 [==============================] - 1s 3ms/step - loss: 0.5152 - accuracy: 0.7962 - val_loss: 0.5082 - val_accuracy: 0.7955\n",
            "Epoch 70/100\n",
            "536/536 [==============================] - 1s 3ms/step - loss: 0.5070 - accuracy: 0.7959 - val_loss: 0.5079 - val_accuracy: 0.7955\n",
            "Epoch 71/100\n",
            "536/536 [==============================] - 2s 3ms/step - loss: 0.5051 - accuracy: 0.7962 - val_loss: 0.5078 - val_accuracy: 0.7955\n",
            "Epoch 72/100\n",
            "536/536 [==============================] - 1s 3ms/step - loss: 0.5055 - accuracy: 0.7962 - val_loss: 0.5086 - val_accuracy: 0.7955\n",
            "Epoch 73/100\n",
            "536/536 [==============================] - 2s 3ms/step - loss: 0.5055 - accuracy: 0.7959 - val_loss: 0.5104 - val_accuracy: 0.7955\n",
            "Epoch 74/100\n",
            "536/536 [==============================] - 1s 3ms/step - loss: 0.5051 - accuracy: 0.7962 - val_loss: 0.5113 - val_accuracy: 0.7955\n",
            "Epoch 75/100\n",
            "536/536 [==============================] - 2s 3ms/step - loss: 0.5052 - accuracy: 0.7962 - val_loss: 0.5099 - val_accuracy: 0.7955\n",
            "Epoch 76/100\n",
            "536/536 [==============================] - 2s 3ms/step - loss: 0.5103 - accuracy: 0.7962 - val_loss: 0.5068 - val_accuracy: 0.7955\n",
            "Epoch 77/100\n",
            "536/536 [==============================] - 1s 3ms/step - loss: 0.5052 - accuracy: 0.7962 - val_loss: 0.5071 - val_accuracy: 0.7955\n",
            "Epoch 78/100\n",
            "536/536 [==============================] - 2s 3ms/step - loss: 0.5049 - accuracy: 0.7962 - val_loss: 0.5076 - val_accuracy: 0.7955\n",
            "Epoch 79/100\n",
            "536/536 [==============================] - 2s 3ms/step - loss: 0.5081 - accuracy: 0.7962 - val_loss: 0.5067 - val_accuracy: 0.7955\n",
            "Epoch 80/100\n",
            "536/536 [==============================] - 1s 3ms/step - loss: 0.5052 - accuracy: 0.7962 - val_loss: 0.5070 - val_accuracy: 0.7955\n",
            "Epoch 81/100\n",
            "536/536 [==============================] - 2s 3ms/step - loss: 0.5056 - accuracy: 0.7962 - val_loss: 0.5067 - val_accuracy: 0.7955\n",
            "Epoch 82/100\n",
            "536/536 [==============================] - 1s 3ms/step - loss: 0.5052 - accuracy: 0.7962 - val_loss: 0.5078 - val_accuracy: 0.7955\n",
            "Epoch 83/100\n",
            "536/536 [==============================] - 2s 3ms/step - loss: 0.5053 - accuracy: 0.7962 - val_loss: 0.5084 - val_accuracy: 0.7955\n",
            "Epoch 84/100\n",
            "536/536 [==============================] - 1s 3ms/step - loss: 0.5051 - accuracy: 0.7962 - val_loss: 0.5079 - val_accuracy: 0.7955\n",
            "Epoch 85/100\n",
            "536/536 [==============================] - 1s 3ms/step - loss: 0.5052 - accuracy: 0.7962 - val_loss: 0.5087 - val_accuracy: 0.7955\n",
            "Epoch 86/100\n",
            "536/536 [==============================] - 2s 3ms/step - loss: 0.5059 - accuracy: 0.7962 - val_loss: 0.5078 - val_accuracy: 0.7955\n",
            "Epoch 87/100\n",
            "536/536 [==============================] - 2s 3ms/step - loss: 0.5055 - accuracy: 0.7960 - val_loss: 0.5100 - val_accuracy: 0.7955\n",
            "Epoch 88/100\n",
            "536/536 [==============================] - 2s 3ms/step - loss: 0.5053 - accuracy: 0.7962 - val_loss: 0.5098 - val_accuracy: 0.7955\n",
            "Epoch 89/100\n",
            "536/536 [==============================] - 2s 4ms/step - loss: 0.5052 - accuracy: 0.7962 - val_loss: 0.5098 - val_accuracy: 0.7955\n",
            "Epoch 90/100\n",
            "536/536 [==============================] - 2s 3ms/step - loss: 0.5055 - accuracy: 0.7962 - val_loss: 0.5103 - val_accuracy: 0.7955\n",
            "Epoch 91/100\n",
            "536/536 [==============================] - 2s 3ms/step - loss: 0.5070 - accuracy: 0.7962 - val_loss: 0.5079 - val_accuracy: 0.7955\n",
            "Epoch 92/100\n",
            "536/536 [==============================] - 2s 3ms/step - loss: 0.5055 - accuracy: 0.7962 - val_loss: 0.5085 - val_accuracy: 0.7955\n",
            "Epoch 93/100\n",
            "536/536 [==============================] - 2s 3ms/step - loss: 0.5051 - accuracy: 0.7962 - val_loss: 0.5084 - val_accuracy: 0.7955\n",
            "Epoch 94/100\n",
            "536/536 [==============================] - 1s 3ms/step - loss: 0.5074 - accuracy: 0.7962 - val_loss: 0.5067 - val_accuracy: 0.7955\n",
            "Epoch 95/100\n",
            "536/536 [==============================] - 2s 3ms/step - loss: 0.5055 - accuracy: 0.7962 - val_loss: 0.5090 - val_accuracy: 0.7955\n",
            "Epoch 96/100\n",
            "536/536 [==============================] - 1s 3ms/step - loss: 0.5048 - accuracy: 0.7962 - val_loss: 0.5107 - val_accuracy: 0.7955\n",
            "Epoch 97/100\n",
            "536/536 [==============================] - 1s 3ms/step - loss: 0.5054 - accuracy: 0.7962 - val_loss: 0.5124 - val_accuracy: 0.7955\n",
            "Epoch 98/100\n",
            "536/536 [==============================] - 1s 3ms/step - loss: 0.5052 - accuracy: 0.7962 - val_loss: 0.5158 - val_accuracy: 0.7955\n",
            "Epoch 99/100\n",
            "536/536 [==============================] - 1s 3ms/step - loss: 0.5222 - accuracy: 0.7957 - val_loss: 0.5061 - val_accuracy: 0.7959\n",
            "Epoch 100/100\n",
            "536/536 [==============================] - 1s 3ms/step - loss: 0.5090 - accuracy: 0.7953 - val_loss: 0.5064 - val_accuracy: 0.7955\n"
          ]
        }
      ]
    },
    {
      "cell_type": "code",
      "source": [
        "print(model_history.history.keys())"
      ],
      "metadata": {
        "colab": {
          "base_uri": "https://localhost:8080/"
        },
        "id": "L09s0z48yc0Q",
        "outputId": "229b5cbe-8dd8-484d-c5f6-3595a3510cf1"
      },
      "execution_count": 73,
      "outputs": [
        {
          "output_type": "stream",
          "name": "stdout",
          "text": [
            "dict_keys(['loss', 'accuracy', 'val_loss', 'val_accuracy'])\n"
          ]
        }
      ]
    },
    {
      "cell_type": "code",
      "source": [
        "#summarize history for accuracy\n",
        "plt.plot(model_history.history['accuracy'])\n",
        "plt.plot(model_history.history['val_accuracy'])\n",
        "plt.title('model accuracy')\n",
        "plt.ylabel('accuracy')\n",
        "plt.xlabel('epoch')\n",
        "plt.legend(['train','test'],loc='upper left')\n",
        "plt.show()"
      ],
      "metadata": {
        "colab": {
          "base_uri": "https://localhost:8080/",
          "height": 295
        },
        "id": "DuDhAU9iBTdb",
        "outputId": "be795d3d-1c81-49b0-dc04-da7d3cf3e97a"
      },
      "execution_count": 74,
      "outputs": [
        {
          "output_type": "display_data",
          "data": {
            "text/plain": [
              "<Figure size 432x288 with 1 Axes>"
            ],
            "image/png": "[encoded data removed]"
          },
          "metadata": {
            "needs_background": "light"
          }
        }
      ]
    },
    {
      "cell_type": "code",
      "source": [
        "#summarize history for loss\n",
        "plt.plot(model_history.history['loss'])\n",
        "plt.plot(model_history.history['val_loss'])\n",
        "plt.title('model loss')\n",
        "plt.ylabel('loss')\n",
        "plt.xlabel('epoch')\n",
        "plt.legend(['train','test'],loc='upper left')\n",
        "plt.show()"
      ],
      "metadata": {
        "colab": {
          "base_uri": "https://localhost:8080/",
          "height": 295
        },
        "id": "lAM-uGv8CIbl",
        "outputId": "0af1f6e4-3388-4a5d-943b-61538dc94ba8"
      },
      "execution_count": 75,
      "outputs": [
        {
          "output_type": "display_data",
          "data": {
            "text/plain": [
              "<Figure size 432x288 with 1 Axes>"
            ],
            "image/png": "[encoded data removed]"
          },
          "metadata": {
            "needs_background": "light"
          }
        }
      ]
    },
    {
      "cell_type": "markdown",
      "source": [
        "thankyou"
      ],
      "metadata": {
        "id": "WU74pqFsCgpo"
      }
    }
  ]
}